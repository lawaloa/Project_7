{
 "cells": [
  {
   "attachments": {},
   "cell_type": "markdown",
   "id": "c3f0e974-faf8-458f-bf2a-06a469d0ea5e",
   "metadata": {},
   "source": [
    "![car](car.jpg)\n",
    "\n",
    "Insurance companies invest a lot of [time and money](https://www.accenture.com/_acnmedia/pdf-84/accenture-machine-leaning-insurance.pdf) into optimizing their pricing and accurately estimating the likelihood that customers will make a claim. In many countries insurance it is a legal requirement to have car insurance in order to drive a vehicle on public roads, so the market is very large!\n",
    "\n",
    "Knowing all of this, On the Road car insurance have requested your services in building a model to predict whether a customer will make a claim on their insurance during the policy period. As they have very little expertise and infrastructure for deploying and monitoring machine learning models, they've asked you to identify the single feature that results in the best performing model, as measured by accuracy, so they can start with a simple model in production.\n",
    "\n",
    "They have supplied you with their customer data as a csv file called `car_insurance.csv`, along with a table detailing the column names and descriptions below."
   ]
  },
  {
   "cell_type": "markdown",
   "id": "8928ffdf-25d6-4ad9-909f-0dd8d10b9a42",
   "metadata": {},
   "source": [
    "\n",
    "\n",
    "## The dataset\n",
    "\n",
    "| Column | Description |\n",
    "|--------|-------------|\n",
    "| `id` | Unique client identifier |\n",
    "| `age` | Client's age: <br> <ul><li>`0`: 16-25</li><li>`1`: 26-39</li><li>`2`: 40-64</li><li>`3`: 65+</li></ul> |\n",
    "| `gender` | Client's gender: <br> <ul><li>`0`: Female</li><li>`1`: Male</li></ul> |\n",
    "| `driving_experience` | Years the client has been driving: <br> <ul><li>`0`: 0-9</li><li>`1`: 10-19</li><li>`2`: 20-29</li><li>`3`: 30+</li></ul> |\n",
    "| `education` | Client's level of education: <br> <ul><li>`0`: No education</li><li>`1`: High school</li><li>`2`: University</li></ul> |\n",
    "| `income` | Client's income level: <br> <ul><li>`0`: Poverty</li><li>`1`: Working class</li><li>`2`: Middle class</li><li>`3`: Upper class</li></ul> |\n",
    "| `credit_score` | Client's credit score (between zero and one) |\n",
    "| `vehicle_ownership` | Client's vehicle ownership status: <br><ul><li>`0`: Does not own their vehilce (paying off finance)</li><li>`1`: Owns their vehicle</li></ul> |\n",
    "| `vehcile_year` | Year of vehicle registration: <br><ul><li>`0`: Before 2015</li><li>`1`: 2015 or later</li></ul> |\n",
    "| `married` | Client's marital status: <br><ul><li>`0`: Not married</li><li>`1`: Married</li></ul> |\n",
    "| `children` | Client's number of children |\n",
    "| `postal_code` | Client's postal code | \n",
    "| `annual_mileage` | Number of miles driven by the client each year |\n",
    "| `vehicle_type` | Type of car: <br> <ul><li>`0`: Sedan</li><li>`1`: Sports car</li></ul> |\n",
    "| `speeding_violations` | Total number of speeding violations received by the client | \n",
    "| `duis` | Number of times the client has been caught driving under the influence of alcohol |\n",
    "| `past_accidents` | Total number of previous accidents the client has been involved in |\n",
    "| `outcome` | Whether the client made a claim on their car insurance (response variable): <br><ul><li>`0`: No claim</li><li>`1`: Made a claim</li></ul> |"
   ]
  },
  {
   "cell_type": "code",
   "execution_count": 1,
   "id": "d0eb4f16-5a99-460d-a5ba-706b7ef0bbe7",
   "metadata": {
    "executionCancelledAt": null,
    "executionTime": 2441,
    "id": "bA5ajAmk7XH6",
    "lastExecutedAt": 1732296634295,
    "lastExecutedByKernel": "228849a6-3b2c-438c-aba9-acebd191be1b",
    "lastScheduledRunId": null,
    "lastSuccessfullyExecutedCode": "# Import required modules\nimport pandas as pd\nimport numpy as np\nfrom statsmodels.formula.api import logit\n\n# Start coding!\ncar = pd.read_csv(\"car_insurance.csv\")\n\n# Exploring the data\n\ndef explore(data, head_rows=5, group_by_col=None, cols_to_impute=None):\n    \"\"\"\n    Explores the given DataFrame by displaying basic information, summary statistics, \n    the first few rows, unique values, and imputes missing values with group means if specified.\n\n    Parameters:\n        data (pd.DataFrame): The DataFrame to explore.\n        head_rows (int): Number of rows to display for the head of the DataFrame. Default is 5.\n        group_by_col (str): Column name to group by for imputing missing values. Default is None.\n        cols_to_impute (list): List of column names to impute missing values. Default is None.\n    \"\"\"\n    print(\"\\n--- DataFrame Info ---\\n\")\n    data.info()\n    \n    print(\"\\n--- Summary Statistics ---\\n\")\n    print(data.describe(include='all'))  # Include all data types in describe()\n    \n    print(f\"\\n--- First {head_rows} Rows ---\\n\")\n    print(data.head(head_rows))\n    \n    print(\"\\n--- Unique Values ---\\n\")\n    for col in data.columns:\n        print(f\"{col}: {data[col].unique()}\")\n    \n    # Impute missing values if group_by_col and cols_to_impute are specified\n    if group_by_col and cols_to_impute:\n        print(\"\\n--- Imputing Missing Values ---\\n\")\n        try:\n            group_means = data.groupby(group_by_col)[cols_to_impute].mean().to_dict()  # Group means as a dictionary\n            for col in cols_to_impute:\n                if col in data.columns:\n                    print(f\"Imputing missing values in '{col}' based on group means of '{group_by_col}'\")\n                    data[col] = data[col].fillna(data[group_by_col].map(group_means[col]))\n                else:\n                    print(f\"Column '{col}' not found in the dataset.\")\n        except Exception as e:\n            print(f\"Error while imputing missing values: {e}\")\n    \n    print(\"\\n--- Any missing values again ? ---\\n\")\n    print(data.isna().sum())\n# Example usage\n# Replace `your_data` with your actual DataFrame\n# explore(your_data, group_by_col=\"outcome\", cols_to_impute=[\"credit_score\", \"annual_mileage\"])\n\nexplore(car, group_by_col=\"outcome\", cols_to_impute=[\"credit_score\", \"annual_mileage\"])\n\ndef find_best_feature_statsmodels(data, outcome_column='outcome', id_column='id'):\n    \"\"\"\n    Identifies the single best feature for predicting the outcome column using logistic regression \n    with statsmodels. Calculates accuracy directly from the confusion matrix.\n\n    Parameters:\n        data (pd.DataFrame): The dataset containing features and the outcome column.\n        outcome_column (str): The name of the target column.\n        id_column (str): The name of the column to exclude from analysis.\n\n    Returns:\n        pd.DataFrame: A DataFrame with the best feature and its accuracy score.\n    \"\"\"\n    # Exclude ID and outcome columns from feature set\n    data1 = data.drop(columns=[id_column, outcome_column])\n    \n    best_feature = None\n    best_accuracy = 0\n\n    # Iterate through each feature\n    for col in data1.columns:\n        # Create formula for logistic regression\n        formula = f\"{outcome_column} ~ {col}\"\n        \n        # Fit logistic regression model on the entire dataset\n        model = logit(formula=formula, data=data).fit(disp=False)\n        \n        # Generate confusion matrix using pred_table()\n        confusion_matrix = model.pred_table()\n        \n        # Calculate accuracy from confusion matrix\n        TP = confusion_matrix[1, 1]\n        TN = confusion_matrix[0, 0]\n        T = confusion_matrix.sum()\n        accuracy = (TP + TN) / T\n\n        # Update the best feature if this one is better\n        if accuracy > best_accuracy:\n            best_feature = col\n            best_accuracy = accuracy\n\n    # Store results in a DataFrame\n    best_feature_df = pd.DataFrame({\n        \"best_feature\": [best_feature],\n        \"best_accuracy\": [best_accuracy]\n    })\n\n    return best_feature_df\n\n# Example usage\n# Replace `your_data` with your actual DataFrame\n# best_feature_df = find_best_feature_statsmodels(your_data)\n# print(best_feature_df)\n\nbest_feature_df = find_best_feature_statsmodels(car)\n\nprint(best_feature_df)\n",
    "outputsMetadata": {
     "0": {
      "height": 482,
      "type": "stream"
     }
    }
   },
   "outputs": [
    {
     "ename": "ModuleNotFoundError",
     "evalue": "No module named 'statsmodels'",
     "output_type": "error",
     "traceback": [
      "\u001b[1;31m---------------------------------------------------------------------------\u001b[0m",
      "\u001b[1;31mModuleNotFoundError\u001b[0m                       Traceback (most recent call last)",
      "Cell \u001b[1;32mIn[1], line 4\u001b[0m\n\u001b[0;32m      2\u001b[0m \u001b[38;5;28;01mimport\u001b[39;00m \u001b[38;5;21;01mpandas\u001b[39;00m \u001b[38;5;28;01mas\u001b[39;00m \u001b[38;5;21;01mpd\u001b[39;00m\n\u001b[0;32m      3\u001b[0m \u001b[38;5;28;01mimport\u001b[39;00m \u001b[38;5;21;01mnumpy\u001b[39;00m \u001b[38;5;28;01mas\u001b[39;00m \u001b[38;5;21;01mnp\u001b[39;00m\n\u001b[1;32m----> 4\u001b[0m \u001b[38;5;28;01mfrom\u001b[39;00m \u001b[38;5;21;01mstatsmodels\u001b[39;00m\u001b[38;5;21;01m.\u001b[39;00m\u001b[38;5;21;01mformula\u001b[39;00m\u001b[38;5;21;01m.\u001b[39;00m\u001b[38;5;21;01mapi\u001b[39;00m \u001b[38;5;28;01mimport\u001b[39;00m logit\n\u001b[0;32m      6\u001b[0m \u001b[38;5;66;03m# Start coding!\u001b[39;00m\n\u001b[0;32m      7\u001b[0m car \u001b[38;5;241m=\u001b[39m pd\u001b[38;5;241m.\u001b[39mread_csv(\u001b[38;5;124m\"\u001b[39m\u001b[38;5;124mcar_insurance.csv\u001b[39m\u001b[38;5;124m\"\u001b[39m)\n",
      "\u001b[1;31mModuleNotFoundError\u001b[0m: No module named 'statsmodels'"
     ]
    }
   ],
   "source": [
    "# Import required modules\n",
    "import pandas as pd\n",
    "import numpy as np\n",
    "from statsmodels.formula.api import logit\n",
    "\n",
    "# Start coding!\n",
    "car = pd.read_csv(\"car_insurance.csv\")\n",
    "\n",
    "# Exploring the data\n",
    "\n",
    "def explore(data, head_rows=5, group_by_col=None, cols_to_impute=None):\n",
    "    \"\"\"\n",
    "    Explores the given DataFrame by displaying basic information, summary statistics, \n",
    "    the first few rows, unique values, and imputes missing values with group means if specified.\n",
    "\n",
    "    Parameters:\n",
    "        data (pd.DataFrame): The DataFrame to explore.\n",
    "        head_rows (int): Number of rows to display for the head of the DataFrame. Default is 5.\n",
    "        group_by_col (str): Column name to group by for imputing missing values. Default is None.\n",
    "        cols_to_impute (list): List of column names to impute missing values. Default is None.\n",
    "    \"\"\"\n",
    "    print(\"\\n--- DataFrame Info ---\\n\")\n",
    "    data.info()\n",
    "    \n",
    "    print(\"\\n--- Summary Statistics ---\\n\")\n",
    "    print(data.describe(include='all'))  # Include all data types in describe()\n",
    "    \n",
    "    print(f\"\\n--- First {head_rows} Rows ---\\n\")\n",
    "    print(data.head(head_rows))\n",
    "    \n",
    "    print(\"\\n--- Unique Values ---\\n\")\n",
    "    for col in data.columns:\n",
    "        print(f\"{col}: {data[col].unique()}\")\n",
    "    \n",
    "    # Impute missing values if group_by_col and cols_to_impute are specified\n",
    "    if group_by_col and cols_to_impute:\n",
    "        print(\"\\n--- Imputing Missing Values ---\\n\")\n",
    "        try:\n",
    "            group_means = data.groupby(group_by_col)[cols_to_impute].mean().to_dict()  # Group means as a dictionary\n",
    "            for col in cols_to_impute:\n",
    "                if col in data.columns:\n",
    "                    print(f\"Imputing missing values in '{col}' based on group means of '{group_by_col}'\")\n",
    "                    data[col] = data[col].fillna(data[group_by_col].map(group_means[col]))\n",
    "                else:\n",
    "                    print(f\"Column '{col}' not found in the dataset.\")\n",
    "        except Exception as e:\n",
    "            print(f\"Error while imputing missing values: {e}\")\n",
    "    \n",
    "    print(\"\\n--- Any missing values again ? ---\\n\")\n",
    "    print(data.isna().sum())\n",
    "# Example usage\n",
    "# Replace `your_data` with your actual DataFrame\n",
    "# explore(your_data, group_by_col=\"outcome\", cols_to_impute=[\"credit_score\", \"annual_mileage\"])\n",
    "\n",
    "explore(car, group_by_col=\"outcome\", cols_to_impute=[\"credit_score\", \"annual_mileage\"])\n",
    "\n",
    "def find_best_feature_statsmodels(data, outcome_column='outcome', id_column='id'):\n",
    "    \"\"\"\n",
    "    Identifies the single best feature for predicting the outcome column using logistic regression \n",
    "    with statsmodels. Calculates accuracy directly from the confusion matrix.\n",
    "\n",
    "    Parameters:\n",
    "        data (pd.DataFrame): The dataset containing features and the outcome column.\n",
    "        outcome_column (str): The name of the target column.\n",
    "        id_column (str): The name of the column to exclude from analysis.\n",
    "\n",
    "    Returns:\n",
    "        pd.DataFrame: A DataFrame with the best feature and its accuracy score.\n",
    "    \"\"\"\n",
    "    # Exclude ID and outcome columns from feature set\n",
    "    data1 = data.drop(columns=[id_column, outcome_column])\n",
    "    \n",
    "    best_feature = None\n",
    "    best_accuracy = 0\n",
    "\n",
    "    # Iterate through each feature\n",
    "    for col in data1.columns:\n",
    "        # Create formula for logistic regression\n",
    "        formula = f\"{outcome_column} ~ {col}\"\n",
    "        \n",
    "        # Fit logistic regression model on the entire dataset\n",
    "        model = logit(formula=formula, data=data).fit(disp=False)\n",
    "        \n",
    "        # Generate confusion matrix using pred_table()\n",
    "        confusion_matrix = model.pred_table()\n",
    "        \n",
    "        # Calculate accuracy from confusion matrix\n",
    "        TP = confusion_matrix[1, 1]\n",
    "        TN = confusion_matrix[0, 0]\n",
    "        T = confusion_matrix.sum()\n",
    "        accuracy = (TP + TN) / T\n",
    "\n",
    "        # Update the best feature if this one is better\n",
    "        if accuracy > best_accuracy:\n",
    "            best_feature = col\n",
    "            best_accuracy = accuracy\n",
    "\n",
    "    # Store results in a DataFrame\n",
    "    best_feature_df = pd.DataFrame({\n",
    "        \"best_feature\": [best_feature],\n",
    "        \"best_accuracy\": [best_accuracy]\n",
    "    })\n",
    "\n",
    "    return best_feature_df\n",
    "\n",
    "# Example usage\n",
    "# Replace `your_data` with your actual DataFrame\n",
    "# best_feature_df = find_best_feature_statsmodels(your_data)\n",
    "# print(best_feature_df)\n",
    "\n",
    "best_feature_df = find_best_feature_statsmodels(car)\n",
    "\n",
    "print(best_feature_df)\n"
   ]
  },
  {
   "cell_type": "code",
   "execution_count": null,
   "id": "884d9c2f-d803-414f-afe8-538d4aebc4a5",
   "metadata": {},
   "outputs": [],
   "source": [
    "!pip install statsmodels\n"
   ]
  },
  {
   "cell_type": "code",
   "execution_count": null,
   "id": "96b397a3-a187-43e0-ae4e-34340e1829cd",
   "metadata": {},
   "outputs": [],
   "source": []
  }
 ],
 "metadata": {
  "colab": {
   "name": "Welcome to DataCamp Workspaces.ipynb",
   "provenance": []
  },
  "editor": "DataCamp Workspace",
  "kernelspec": {
   "display_name": "Python 3 (ipykernel)",
   "language": "python",
   "name": "python3"
  },
  "language_info": {
   "codemirror_mode": {
    "name": "ipython",
    "version": 3
   },
   "file_extension": ".py",
   "mimetype": "text/x-python",
   "name": "python",
   "nbconvert_exporter": "python",
   "pygments_lexer": "ipython3",
   "version": "3.11.8"
  },
  "vscode": {
   "interpreter": {
    "hash": "aee8b7b246df8f9039afb4144a1f6fd8d2ca17a180786b69acc140d282b71a49"
   }
  }
 },
 "nbformat": 4,
 "nbformat_minor": 5
}
